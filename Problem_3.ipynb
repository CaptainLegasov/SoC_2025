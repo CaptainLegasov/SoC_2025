{
 "cells": [
  {
   "cell_type": "code",
   "execution_count": 1,
   "id": "cf2e337d-cdf2-4a88-83bb-44a1fda45367",
   "metadata": {},
   "outputs": [],
   "source": [
    "import numpy as np"
   ]
  },
  {
   "cell_type": "code",
   "execution_count": 15,
   "id": "34a99d6d-a97d-4d98-a895-261a0cfb8ffe",
   "metadata": {},
   "outputs": [
    {
     "name": "stdout",
     "output_type": "stream",
     "text": [
      "[[11613 20607 38091 38960 51601 54980 65450 65471 70582]\n",
      " [ 3883 18199 33932 39420 40325 51054 53175 92345 94959]\n",
      " [13508 26448 31532 42975 45000 67163 70749 84999 99626]\n",
      " [ 6830 14283 14599 18313 30196 40809 43599 47134 79408]]\n",
      "[[     0  11613  20607  38091  38960  51601  54980  65450  65471  70582\n",
      "  100000]\n",
      " [     0   3883  18199  33932  39420  40325  51054  53175  92345  94959\n",
      "  100000]\n",
      " [     0  13508  26448  31532  42975  45000  67163  70749  84999  99626\n",
      "  100000]\n",
      " [     0   6830  14283  14599  18313  30196  40809  43599  47134  79408\n",
      "  100000]]\n"
     ]
    }
   ],
   "source": [
    "matrix = np.random.randint(1, 100000, size=(4, 9))\n",
    "matrix_sorted = np.sort(matrix, axis=1)\n",
    "print(matrix_sorted)\n",
    "\n",
    "zeros = np.zeros((4, 1), dtype=int)\n",
    "lakhs = np.full((4, 1), 100000, dtype=int)\n",
    "breaks = np.hstack((zeros, matrix_sorted, lakhs))\n",
    "\n",
    "print(breaks)"
   ]
  },
  {
   "cell_type": "code",
   "execution_count": 16,
   "id": "ee3cd5a8-2a78-4d52-9708-aacdc3693d7a",
   "metadata": {},
   "outputs": [
    {
     "name": "stdout",
     "output_type": "stream",
     "text": [
      "[[0.85209025 0.78134701 0.62679866 0.5414062  0.49284386 0.42882488\n",
      "  0.38166284 0.37649195 0.31517853 0.27717003]\n",
      " [0.97101573 0.80198713 0.73545965 0.65895804 0.65635218 0.47545407\n",
      "  0.47008674 0.2657316  0.18130755 0.11140761]\n",
      " [0.66281525 0.45946924 0.36509719 0.34922865 0.31011256 0.27878471\n",
      "  0.23399165 0.19507865 0.04722654 0.01824707]\n",
      " [0.94234152 0.81296938 0.77814891 0.69450167 0.57985917 0.51838066\n",
      "  0.42917744 0.16653651 0.10625614 0.09189275]]\n"
     ]
    }
   ],
   "source": [
    "matrix_2 = np.random.rand(4, 10)\n",
    "slopes = -np.sort(-matrix_2, axis=1)\n",
    "print(slopes)"
   ]
  },
  {
   "cell_type": "code",
   "execution_count": 17,
   "id": "9291bee6-03bf-4ef6-8e41-ae6c19f3b437",
   "metadata": {},
   "outputs": [],
   "source": [
    "from gurobipy import Model, GRB"
   ]
  },
  {
   "cell_type": "code",
   "execution_count": 19,
   "id": "1b7a5547-622d-4275-a4e0-b36c67b8bbd3",
   "metadata": {},
   "outputs": [
    {
     "name": "stdout",
     "output_type": "stream",
     "text": [
      "Restricted license - for non-production use only - expires 2026-11-23\n"
     ]
    }
   ],
   "source": [
    "prob_3 = Model(\"Ad Budget Allocation\")"
   ]
  },
  {
   "cell_type": "code",
   "execution_count": 23,
   "id": "7977e57b-0c4b-4a82-a2bb-81849665bb25",
   "metadata": {},
   "outputs": [],
   "source": [
    "x = {}\n",
    "for i in range(breaks.shape[0]):\n",
    "    for s in range(breaks.shape[1] - 1):\n",
    "        upper_bound = breaks[i, s+1] - breaks[i, s]\n",
    "        x[i, s] = prob_3.addVar(lb=0, ub=upper_bound)\n",
    "\n",
    "y = {}\n",
    "for i in range(breaks.shape[0]):\n",
    "    y[i] = prob_3.addVar(vtype=GRB.BINARY)"
   ]
  },
  {
   "cell_type": "code",
   "execution_count": 24,
   "id": "2ba4b025-d60e-4122-9261-9f93227787a4",
   "metadata": {},
   "outputs": [],
   "source": [
    "prob_3.setObjective(\n",
    "    sum(slopes[i, s] * x[i, s] for i in range(breaks.shape[0]) for s in range(breaks.shape[1] - 1)),\n",
    "    GRB.MAXIMIZE\n",
    ")"
   ]
  },
  {
   "cell_type": "code",
   "execution_count": 25,
   "id": "18da3cb9-d8ed-46ec-a7a9-5cb6f6caf22a",
   "metadata": {},
   "outputs": [
    {
     "data": {
      "text/plain": [
       "<gurobi.Constr *Awaiting Model Update*>"
      ]
     },
     "execution_count": 25,
     "metadata": {},
     "output_type": "execute_result"
    }
   ],
   "source": [
    "prob_3.addConstr(\n",
    "    sum(x[i, s] for i in range(breaks.shape[0]) for s in range(breaks.shape[1] - 1)) <= 100000,\n",
    "    \"TotalBudget\"\n",
    ")\n",
    "\n",
    "for i in range(breaks.shape[0]):\n",
    "    prob_3.addConstr(\n",
    "        sum(x[i, s] for s in range(breaks.shape[1] - 1)) <= 100000 * y[i]\n",
    "    )\n",
    "\n",
    "prob_3.addConstr(\n",
    "    sum(y[i] for i in range(breaks.shape[0])) <= 3,\n",
    "    name=\"max_3_active_channels\"\n",
    ")\n",
    "\n",
    "tv_index = 1 #Tv is second channel\n",
    "prob_3.addConstr(\n",
    "    sum(x[tv_index, s] for s in range(breaks.shape[1] - 1)) >= 0.3 * 100000 * y[tv_index],\n",
    "    name=\"tv_minimum_if_used\"\n",
    ")"
   ]
  },
  {
   "cell_type": "code",
   "execution_count": 32,
   "id": "b2b3302e-17d6-4982-b6d3-2778b7f3e759",
   "metadata": {},
   "outputs": [],
   "source": [
    "prob_3.setParam(\"OutputFlag\", False)\n",
    "prob_3.optimize()"
   ]
  },
  {
   "cell_type": "code",
   "execution_count": 31,
   "id": "3ea2ed19-2990-49b7-889f-d5877d65fff6",
   "metadata": {},
   "outputs": [
    {
     "name": "stdout",
     "output_type": "stream",
     "text": [
      "Objective Function Value: 76132.002831\n"
     ]
    }
   ],
   "source": [
    "print(\"Objective Function Value: %f\" % prob_3.objVal)"
   ]
  },
  {
   "cell_type": "code",
   "execution_count": 33,
   "id": "47cbb1dc-8dda-4a27-a4a2-54ee9b0b5768",
   "metadata": {},
   "outputs": [
    {
     "name": "stdout",
     "output_type": "stream",
     "text": [
      "\n",
      "Optimal Budget Allocation Matrix (rows=channels, cols=segments):\n",
      "[[11613.  8994. 17484.     0.     0.     0.     0.     0.     0.     0.]\n",
      " [ 3883. 14316. 15733.  5488.   905.     0.     0.     0.     0.     0.]\n",
      " [    0.     0.     0.     0.     0.     0.     0.     0.     0.     0.]\n",
      " [ 6830.  7453.   316.  3714.  3271.     0.     0.     0.     0.     0.]]\n"
     ]
    }
   ],
   "source": [
    "x_matrix = np.zeros((breaks.shape[0], breaks.shape[1] - 1))\n",
    "\n",
    "for i in range(breaks.shape[0]):\n",
    "    for s in range(breaks.shape[1] - 1):\n",
    "        x_matrix[i, s] = x[i, s].X  \n",
    "\n",
    "np.set_printoptions()\n",
    "print(\"\\nOptimal Budget Allocation Matrix (rows=channels, cols=segments):\")\n",
    "print(x_matrix)"
   ]
  },
  {
   "cell_type": "code",
   "execution_count": null,
   "id": "2ec79cf1-40fc-4ad7-b1ec-a3d5cf0f4b83",
   "metadata": {},
   "outputs": [],
   "source": []
  }
 ],
 "metadata": {
  "kernelspec": {
   "display_name": "Python 3 (ipykernel)",
   "language": "python",
   "name": "python3"
  },
  "language_info": {
   "codemirror_mode": {
    "name": "ipython",
    "version": 3
   },
   "file_extension": ".py",
   "mimetype": "text/x-python",
   "name": "python",
   "nbconvert_exporter": "python",
   "pygments_lexer": "ipython3",
   "version": "3.12.7"
  }
 },
 "nbformat": 4,
 "nbformat_minor": 5
}
