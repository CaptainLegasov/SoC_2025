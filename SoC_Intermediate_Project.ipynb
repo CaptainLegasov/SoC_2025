{
 "cells": [
  {
   "cell_type": "code",
   "execution_count": 1,
   "id": "5825fa88-6a9c-4fd9-bcfd-0ece3629aa00",
   "metadata": {},
   "outputs": [],
   "source": []
  },
  {
   "cell_type": "code",
   "execution_count": 161,
   "id": "23f7c619-fd79-4727-81a5-1a1b4d7834eb",
   "metadata": {},
   "outputs": [],
   "source": [
    "L = 100\n",
    "W = 100\n",
    "H = 100\n",
    "\n",
    "id = [1, 2, 3, 4, 5]\n",
    "l = [40, 50, 30, 20, 70]\n",
    "w = [40, 50, 30, 60, 30]\n",
    "h = [40, 20, 30, 20, 40]\n",
    "N = len(id)\n",
    "\n",
    "p = [1, 0, 0, 0, 1] #priority"
   ]
  },
  {
   "cell_type": "code",
   "execution_count": 162,
   "id": "c0aa258c-2d99-4979-ad91-7cd357fd641c",
   "metadata": {},
   "outputs": [],
   "source": [
    "from gurobipy import *"
   ]
  },
  {
   "cell_type": "code",
   "execution_count": 163,
   "id": "3684501d-c844-425a-9408-61e008c7c5a1",
   "metadata": {},
   "outputs": [],
   "source": [
    "model_1 = Model(\"Base Model\")"
   ]
  },
  {
   "cell_type": "code",
   "execution_count": 164,
   "id": "9386216c-8552-40ac-91ba-118e44c259a1",
   "metadata": {},
   "outputs": [],
   "source": [
    "x = model_1.addVars(N, vtype = GRB.BINARY, name = \"x\")\n",
    "\n",
    "X = model_1.addVars(N, vtype = GRB.CONTINUOUS, lb = 0)\n",
    "Y = model_1.addVars(N, vtype = GRB.CONTINUOUS, lb = 0)\n",
    "Z = model_1.addVars(N, vtype = GRB.CONTINUOUS, lb = 0)\n",
    "\n",
    "a = model_1.addVars(N, N, vtype = GRB.BINARY)\n",
    "b = model_1.addVars(N, N, vtype = GRB.BINARY)\n",
    "c = model_1.addVars(N, N, vtype = GRB.BINARY)"
   ]
  },
  {
   "cell_type": "code",
   "execution_count": 165,
   "id": "0f35b7d8-bbb4-41f6-b777-42e9c88e66bf",
   "metadata": {},
   "outputs": [
    {
     "data": {
      "text/plain": [
       "{(0, 0): <gurobi.Constr *Awaiting Model Update*>,\n",
       " (0, 1): <gurobi.Constr *Awaiting Model Update*>,\n",
       " (0, 2): <gurobi.Constr *Awaiting Model Update*>,\n",
       " (0, 3): <gurobi.Constr *Awaiting Model Update*>,\n",
       " (0, 4): <gurobi.Constr *Awaiting Model Update*>,\n",
       " (1, 0): <gurobi.Constr *Awaiting Model Update*>,\n",
       " (1, 1): <gurobi.Constr *Awaiting Model Update*>,\n",
       " (1, 2): <gurobi.Constr *Awaiting Model Update*>,\n",
       " (1, 3): <gurobi.Constr *Awaiting Model Update*>,\n",
       " (1, 4): <gurobi.Constr *Awaiting Model Update*>,\n",
       " (2, 0): <gurobi.Constr *Awaiting Model Update*>,\n",
       " (2, 1): <gurobi.Constr *Awaiting Model Update*>,\n",
       " (2, 2): <gurobi.Constr *Awaiting Model Update*>,\n",
       " (2, 3): <gurobi.Constr *Awaiting Model Update*>,\n",
       " (2, 4): <gurobi.Constr *Awaiting Model Update*>,\n",
       " (3, 0): <gurobi.Constr *Awaiting Model Update*>,\n",
       " (3, 1): <gurobi.Constr *Awaiting Model Update*>,\n",
       " (3, 2): <gurobi.Constr *Awaiting Model Update*>,\n",
       " (3, 3): <gurobi.Constr *Awaiting Model Update*>,\n",
       " (3, 4): <gurobi.Constr *Awaiting Model Update*>,\n",
       " (4, 0): <gurobi.Constr *Awaiting Model Update*>,\n",
       " (4, 1): <gurobi.Constr *Awaiting Model Update*>,\n",
       " (4, 2): <gurobi.Constr *Awaiting Model Update*>,\n",
       " (4, 3): <gurobi.Constr *Awaiting Model Update*>,\n",
       " (4, 4): <gurobi.Constr *Awaiting Model Update*>}"
      ]
     },
     "execution_count": 165,
     "metadata": {},
     "output_type": "execute_result"
    }
   ],
   "source": [
    "# we use disjunctive constraints\n",
    "\n",
    "model_1.addConstrs(X[i] + l[i] <= (1 - x[i])*L + L\n",
    "                  for i in range(N))\n",
    "\n",
    "model_1.addConstrs(Y[i] + w[i] <= (1 - x[i])*W + W\n",
    "                  for i in range(N))\n",
    "\n",
    "model_1.addConstrs(Z[i] + h[i] <= (1 - x[i])*H + H\n",
    "                  for i in range(N))\n",
    "\n",
    "model_1.addConstrs(a[i, i] == 0 for i in range(N))\n",
    "\n",
    "model_1.addConstrs(b[i, i] == 0 for i in range(N))\n",
    "\n",
    "model_1.addConstrs(c[i, i] == 0 for i in range(N))\n",
    "\n",
    "model_1.addConstrs(a[i, j] + a[j, i] >= x[i] + x[j] - 1\n",
    "                      for i in range(N) for j in range(N) if i != j)\n",
    "\n",
    "model_1.addConstrs(b[i, j] + b[j, i] >= x[i] + x[j] - 1\n",
    "                      for i in range(N) for j in range(N) if i != j)\n",
    "\n",
    "model_1.addConstrs(c[i, j] + c[j, i] >= x[i] + x[j] - 1\n",
    "                      for i in range(N) for j in range(N) if i != j)\n",
    "\n",
    "model_1.addConstrs(a[i, j] + a[j, i] <= 1\n",
    "                      for i in range(N) for j in range(N) if i != j)\n",
    "\n",
    "model_1.addConstrs(b[i, j] + b[j, i] <= 1\n",
    "                      for i in range(N) for j in range(N) if i != j)\n",
    "\n",
    "model_1.addConstrs(c[i, j] + c[j, i] <= 1\n",
    "                      for i in range(N) for j in range(N) if i != j)\n",
    "\n",
    "model_1.addConstrs(X[i] + l[i] <= (1 - a[i, j])*L + X[j]\n",
    "                  for i in range(N) for j in range(N))\n",
    "\n",
    "model_1.addConstrs(Y[i] + w[i] <= (1 - b[i, j])*W + Y[j]\n",
    "                  for i in range(N) for j in range(N))\n",
    "\n",
    "model_1.addConstrs(X[i] + h[i] <= (1 - c[i, j])*H + Z[j]\n",
    "                  for i in range(N) for j in range(N))\n",
    "\n",
    "\n",
    "model_1.addConstrs(x[i] >= p[i]*(x[j] - p[j])\n",
    "                  for i in range(N) for j in range(N))\n",
    "#does not include the case if priority item is not feasible, but another items are feasible\n",
    "\n",
    "#A better way to give priority is adding weights in objevtive function, N for priority ones and 1 for rest."
   ]
  },
  {
   "cell_type": "code",
   "execution_count": null,
   "id": "1743be90-bea4-431c-81e3-7de133e5e964",
   "metadata": {},
   "outputs": [],
   "source": []
  },
  {
   "cell_type": "code",
   "execution_count": 166,
   "id": "ac20701e-7cf3-4931-8b02-fdabdbeac164",
   "metadata": {},
   "outputs": [],
   "source": [
    "ob_fn = sum(x[i] for i in range(N))\n",
    "model_1.setObjective(ob_fn, GRB.MAXIMIZE)"
   ]
  },
  {
   "cell_type": "code",
   "execution_count": 167,
   "id": "fa21fb55-31ff-45d7-b529-fc9e4c795851",
   "metadata": {},
   "outputs": [],
   "source": [
    "model_1.setParam(\"OutputFlag\", False)\n",
    "model_1.optimize()"
   ]
  },
  {
   "cell_type": "code",
   "execution_count": 168,
   "id": "7dacfba2-5243-457a-81d2-80cb2f021e99",
   "metadata": {},
   "outputs": [
    {
     "name": "stdout",
     "output_type": "stream",
     "text": [
      "Objective Function Value: 1.000000\n"
     ]
    }
   ],
   "source": [
    "print(\"Objective Function Value: %f\" % model_1.objVal)"
   ]
  },
  {
   "cell_type": "code",
   "execution_count": 169,
   "id": "07daaeec-5539-4316-b235-17edaffa4c03",
   "metadata": {},
   "outputs": [],
   "source": [
    "import pandas as pd"
   ]
  },
  {
   "cell_type": "code",
   "execution_count": 170,
   "id": "436e72e2-1b9a-4df9-9717-4b174e533639",
   "metadata": {},
   "outputs": [
    {
     "name": "stdout",
     "output_type": "stream",
     "text": [
      "|   Box ID | Packed   | X    | Y    | Z    |   Length |   Width |   Height |\n",
      "|---------:|:---------|:-----|:-----|:-----|---------:|--------:|---------:|\n",
      "|        1 | Yes      | 20.0 | 60.0 | 60.0 |       40 |      40 |       40 |\n",
      "|        2 | No       | -    | -    | -    |       50 |      50 |       20 |\n",
      "|        3 | No       | -    | -    | -    |       30 |      30 |       30 |\n",
      "|        4 | No       | -    | -    | -    |       20 |      60 |       20 |\n",
      "|        5 | No       | -    | -    | -    |       70 |      30 |       40 |\n"
     ]
    }
   ],
   "source": [
    "output = []\n",
    "\n",
    "for i in range(N):\n",
    "    packed = int(round(x[i].X))\n",
    "    output.append({\n",
    "        'Box ID': i + 1,\n",
    "        'Packed': 'Yes' if packed == 1 else 'No',\n",
    "        'X': round(X[i].X, 2) if packed else '-',\n",
    "        'Y': round(Y[i].X, 2) if packed else '-',\n",
    "        'Z': round(Z[i].X, 2) if packed else '-',\n",
    "        'Length': l[i],\n",
    "        'Width': w[i],\n",
    "        'Height': h[i]\n",
    "    })\n",
    "\n",
    "df = pd.DataFrame(output)\n",
    "print(df.to_markdown(index=False))\n"
   ]
  },
  {
   "cell_type": "code",
   "execution_count": 171,
   "id": "dfa4ac19-9314-4864-b73f-a74d5bde21d3",
   "metadata": {},
   "outputs": [],
   "source": [
    "# a box can be placed in 6 ways\n",
    "rotations = [\n",
    "    (0, 1, 2),\n",
    "    (0, 2, 1),\n",
    "    (1, 0, 2),\n",
    "    (1, 2, 0),\n",
    "    (2, 0, 1),\n",
    "    (2, 1, 0)\n",
    "]\n",
    "R = len(rotations)\n",
    "\n",
    "box_dims = [\n",
    "    (40, 40, 40),\n",
    "    (50, 50, 20),\n",
    "    (30, 30, 30),\n",
    "    (20, 60, 20),\n",
    "    (70, 30, 40)\n",
    "]"
   ]
  },
  {
   "cell_type": "code",
   "execution_count": 172,
   "id": "976d3cdf-7bf2-4359-a756-9176c31388bd",
   "metadata": {},
   "outputs": [],
   "source": [
    "def after_rotation(i, k):\n",
    "    rot = rotations[k]\n",
    "    new_dim = box_dims[i]\n",
    "    return new_dim[rot[0]], new_dim[rot[1]], new_dim[rot[2]]\n",
    "    "
   ]
  },
  {
   "cell_type": "code",
   "execution_count": 173,
   "id": "f97de006-056d-4846-bfee-2954619fa5d6",
   "metadata": {},
   "outputs": [],
   "source": [
    "model_2 = Model(\"Model with rotations allowed\")"
   ]
  },
  {
   "cell_type": "code",
   "execution_count": 174,
   "id": "dabfc036-d75f-43be-89ee-acbef52a0c06",
   "metadata": {},
   "outputs": [],
   "source": [
    "y = model_2.addVars(N, vtype = GRB.BINARY)\n",
    "r = model_2.addVars(N, R, vtype = GRB.BINARY, name = \"rotations\")\n",
    "X_2 = model_2.addVars(N, vtype = GRB.CONTINUOUS, lb = 0)\n",
    "Y_2 = model_2.addVars(N, vtype = GRB.CONTINUOUS, lb = 0)\n",
    "Z_2 = model_2.addVars(N, vtype = GRB.CONTINUOUS, lb = 0)\n",
    "\n",
    "a_2 = model_2.addVars(N, N, vtype = GRB.BINARY)\n",
    "b_2 = model_2.addVars(N, N, vtype = GRB.BINARY)\n",
    "c_2 = model_2.addVars(N, N, vtype = GRB.BINARY)"
   ]
  },
  {
   "cell_type": "code",
   "execution_count": 175,
   "id": "5ac92790-07b7-4134-a33d-f641ee610453",
   "metadata": {},
   "outputs": [],
   "source": [
    "obj_fn_2 = sum(y[i] for i in range(N))\n",
    "model_2.setObjective(obj_fn_2, GRB.MAXIMIZE)"
   ]
  },
  {
   "cell_type": "code",
   "execution_count": 176,
   "id": "01eebba5-6fe1-412f-aacb-6d64a3b8f59d",
   "metadata": {},
   "outputs": [
    {
     "data": {
      "text/plain": [
       "{(0, 0): <gurobi.Constr *Awaiting Model Update*>,\n",
       " (0, 1): <gurobi.Constr *Awaiting Model Update*>,\n",
       " (0, 2): <gurobi.Constr *Awaiting Model Update*>,\n",
       " (0, 3): <gurobi.Constr *Awaiting Model Update*>,\n",
       " (0, 4): <gurobi.Constr *Awaiting Model Update*>,\n",
       " (1, 0): <gurobi.Constr *Awaiting Model Update*>,\n",
       " (1, 1): <gurobi.Constr *Awaiting Model Update*>,\n",
       " (1, 2): <gurobi.Constr *Awaiting Model Update*>,\n",
       " (1, 3): <gurobi.Constr *Awaiting Model Update*>,\n",
       " (1, 4): <gurobi.Constr *Awaiting Model Update*>,\n",
       " (2, 0): <gurobi.Constr *Awaiting Model Update*>,\n",
       " (2, 1): <gurobi.Constr *Awaiting Model Update*>,\n",
       " (2, 2): <gurobi.Constr *Awaiting Model Update*>,\n",
       " (2, 3): <gurobi.Constr *Awaiting Model Update*>,\n",
       " (2, 4): <gurobi.Constr *Awaiting Model Update*>,\n",
       " (3, 0): <gurobi.Constr *Awaiting Model Update*>,\n",
       " (3, 1): <gurobi.Constr *Awaiting Model Update*>,\n",
       " (3, 2): <gurobi.Constr *Awaiting Model Update*>,\n",
       " (3, 3): <gurobi.Constr *Awaiting Model Update*>,\n",
       " (3, 4): <gurobi.Constr *Awaiting Model Update*>,\n",
       " (4, 0): <gurobi.Constr *Awaiting Model Update*>,\n",
       " (4, 1): <gurobi.Constr *Awaiting Model Update*>,\n",
       " (4, 2): <gurobi.Constr *Awaiting Model Update*>,\n",
       " (4, 3): <gurobi.Constr *Awaiting Model Update*>,\n",
       " (4, 4): <gurobi.Constr *Awaiting Model Update*>}"
      ]
     },
     "execution_count": 176,
     "metadata": {},
     "output_type": "execute_result"
    }
   ],
   "source": [
    "model_2.addConstrs(sum(r[i, k] for k in range(R)) == y[i]\n",
    "                  for i in range(N))\n",
    "\n",
    "for i in range(N):\n",
    "    for k in range(R):\n",
    "        l_2, w_2, h_2 = after_rotation(i, k)\n",
    "        model_2.addConstr(X_2[i] + l_2 * r[i, k] <= L)\n",
    "        model_2.addConstr(Y_2[i] + w_2 * r[i, k] <= W)\n",
    "        model_2.addConstr(Z_2[i] + h_2 * r[i, k] <= H)\n",
    "\n",
    "model_2.addConstrs(a_2[i, i] == 0 for i in range(N))\n",
    "\n",
    "model_2.addConstrs(b_2[i, i] == 0 for i in range(N))\n",
    "\n",
    "model_2.addConstrs(c_2[i, i] == 0 for i in range(N))\n",
    "\n",
    "model_2.addConstrs(a_2[i, j] + a_2[j, i] >= y[i] + y[j] - 1\n",
    "                      for i in range(N) for j in range(N) if i != j)\n",
    "\n",
    "model_2.addConstrs(b_2[i, j] + b_2[j, i] >= y[i] + y[j] - 1\n",
    "                      for i in range(N) for j in range(N) if i != j)\n",
    "\n",
    "model_2.addConstrs(c_2[i, j] + c_2[j, i] >= y[i] + y[j] - 1\n",
    "                      for i in range(N) for j in range(N) if i != j)\n",
    "\n",
    "model_2.addConstrs(a_2[i, j] + a_2[j, i] <= 1\n",
    "                      for i in range(N) for j in range(N) if i != j)\n",
    "\n",
    "model_2.addConstrs(b_2[i, j] + b_2[j, i] <= 1\n",
    "                      for i in range(N) for j in range(N) if i != j)\n",
    "\n",
    "model_2.addConstrs(c_2[i, j] + c_2[j, i] <= 1\n",
    "                      for i in range(N) for j in range(N) if i != j)\n",
    "\n",
    "M = L + W + H\n",
    "\n",
    "for i in range(N):\n",
    "    for j in range(N):\n",
    "            for k in range(R):\n",
    "                l_2, w_2, h_2 = after_rotation(i, k)\n",
    "                model_2.addConstr(X_2[i] + l_2 * r[i, k] <= X_2[j] + M * (1 - a_2[i, j]))\n",
    "                model_2.addConstr(X_2[i] + w_2 * r[i, k] <= Y_2[j] + M * (1 - b_2[i, j]))\n",
    "                model_2.addConstr(X_2[i] + h_2 * r[i, k] <= Z_2[j] + M * (1 - c_2[i, j]))\n",
    "\n",
    "model_2.addConstrs(y[i] >= p[i]*(y[j] - p[j])\n",
    "                for i in range(N) for j in range(N))\n",
    "#does not include the case if priority item is not feasible, but another items are feasible\n",
    "\n",
    "#A better way to give priority is adding weights in objective function, N for priority ones and 1 for rest."
   ]
  },
  {
   "cell_type": "code",
   "execution_count": 181,
   "id": "c18ef1c7-dffe-40a5-8673-bfd652d91cd9",
   "metadata": {},
   "outputs": [],
   "source": [
    "# f = [1, 0, 0, 1, 0], 1 means no box can be placed above it\n",
    "# if we want to include fragility constraint also, then just include this constraint \n",
    "# model_2.addConstrs(c_2[i, j]*f[i] == 0 for j in range(N) for i in range(N))"
   ]
  },
  {
   "cell_type": "code",
   "execution_count": 180,
   "id": "5b87bc64-4f73-49a7-8f98-b6ddd5cf99a3",
   "metadata": {},
   "outputs": [],
   "source": [
    "#if our objective is to maximize volume occupied, we just change objective function to:\n",
    "#    sum(li*wi*hi*y[i] for i in range(N))"
   ]
  },
  {
   "cell_type": "code",
   "execution_count": 177,
   "id": "bf0b67aa-4299-45fc-96b7-c732828cdc86",
   "metadata": {},
   "outputs": [],
   "source": [
    "model_2.setParam(\"OutputFlag\", False)\n",
    "model_2.optimize()"
   ]
  },
  {
   "cell_type": "code",
   "execution_count": 178,
   "id": "92f8f353-109c-4a16-9afd-af4f90bdde0e",
   "metadata": {},
   "outputs": [
    {
     "name": "stdout",
     "output_type": "stream",
     "text": [
      "Objective Function Value: 1.000000\n"
     ]
    }
   ],
   "source": [
    "print(\"Objective Function Value: %f\" % model_2.objVal)"
   ]
  },
  {
   "cell_type": "code",
   "execution_count": 179,
   "id": "c895ddde-66d5-4f6c-a2f1-d15725c87c67",
   "metadata": {},
   "outputs": [
    {
     "name": "stdout",
     "output_type": "stream",
     "text": [
      "|   Box ID | Packed   | Rotation   | X   | Y    | Z    | Length   | Width   | Height   |\n",
      "|---------:|:---------|:-----------|:----|:-----|:-----|:---------|:--------|:---------|\n",
      "|        1 | No       | -          | -   | -    | -    | -        | -       | -        |\n",
      "|        2 | No       | -          | -   | -    | -    | -        | -       | -        |\n",
      "|        3 | No       | -          | -   | -    | -    | -        | -       | -        |\n",
      "|        4 | No       | -          | -   | -    | -    | -        | -       | -        |\n",
      "|        5 | Yes      | 2          | 0.0 | 60.0 | 70.0 | 70       | 40      | 30       |\n"
     ]
    }
   ],
   "source": [
    "output = []\n",
    "\n",
    "for i in range(N):\n",
    "    packed = int(round(y[i].X))\n",
    "    if packed:\n",
    "        rot_k = [k for k in range(R) if r[i, k].X > 0.5][0]\n",
    "        li, wi, hi = after_rotation(i, rot_k)\n",
    "        output.append({\n",
    "            'Box ID': i + 1,\n",
    "            'Packed': 'Yes',\n",
    "            'Rotation': rot_k + 1,\n",
    "            'X': round(X_2[i].X, 2),\n",
    "            'Y': round(Y_2[i].X, 2),\n",
    "            'Z': round(Z_2[i].X, 2),\n",
    "            'Length': li,\n",
    "            'Width': wi,\n",
    "            'Height': hi\n",
    "        })\n",
    "    else:\n",
    "        output.append({\n",
    "            'Box ID': i + 1,\n",
    "            'Packed': 'No',\n",
    "            'Rotation': '-',\n",
    "            'X': '-', 'Y': '-', 'Z': '-',\n",
    "            'Length': '-', 'Width': '-', 'Height': '-'\n",
    "        })\n",
    "\n",
    "df = pd.DataFrame(output)\n",
    "print(df.to_markdown(index=False))\n"
   ]
  },
  {
   "cell_type": "code",
   "execution_count": null,
   "id": "80c2bb93-1aa4-4fa3-8870-f2a93029cb7d",
   "metadata": {},
   "outputs": [],
   "source": []
  },
  {
   "cell_type": "code",
   "execution_count": null,
   "id": "3a08c45c-5674-44cc-af80-59faa8174e35",
   "metadata": {},
   "outputs": [],
   "source": []
  }
 ],
 "metadata": {
  "kernelspec": {
   "display_name": "Python 3 (ipykernel)",
   "language": "python",
   "name": "python3"
  },
  "language_info": {
   "codemirror_mode": {
    "name": "ipython",
    "version": 3
   },
   "file_extension": ".py",
   "mimetype": "text/x-python",
   "name": "python",
   "nbconvert_exporter": "python",
   "pygments_lexer": "ipython3",
   "version": "3.12.7"
  }
 },
 "nbformat": 4,
 "nbformat_minor": 5
}
