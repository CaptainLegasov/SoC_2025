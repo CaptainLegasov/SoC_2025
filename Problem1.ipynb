{
 "cells": [
  {
   "cell_type": "markdown",
   "id": "3716930e-dacb-4d7e-bc5f-564e0b86b9fe",
   "metadata": {},
   "source": [
    "Suppose the given preference score of nurse \\( i \\) for shift \\( j \\) is $ c_{ij} $, where $ i \\in \\{1, 2, \\ldots, 7\\} $ and $ j \\in \\{1, 2, \\ldots, 21\\} $.\n",
    "\n",
    "Let our decision variable be $ x_{ij} $, where $ x_{ij} = 1 $ if nurse \\( i \\) is assigned shift \\( j \\), and 0 otherwise.\n",
    "\n",
    "We have to:\n",
    "$$\n",
    "\\max \\sum_{i=1}^{7} \\sum_{j=1}^{21} c_{ij} \\cdot x_{ij}\n",
    "$$\n",
    "\n",
    "Subject to the following constraints:\n",
    "$$\n",
    "\\sum_{i=1}^{7} x_{ij} = 1 \\quad \\forall j \\in \\{1, 2, \\ldots, 21\\},\n",
    "$$\n",
    "\n",
    "$$\n",
    "\\sum_{j=1}^{21} x_{ij} \\leq 5 \\quad \\forall i \\in \\{1, 2, \\ldots, 7\\},\n",
    "$$\n",
    "\n",
    "$$\n",
    "\\sum_{j=3k-2}^{3k} x_{ij} \\leq 1 \\quad \\forall i, k \\in \\{1, 2, \\ldots, 7\\},\n",
    "$$\n",
    "\n",
    "$$\n",
    "x_{ij} + x_{i(j+1)} \\leq 1 \\quad \\forall i \\in \\{1, 2, \\ldots, 7\\} \\quad and \\quad \\forall j \\in \\{1, 2, \\ldots, 20\\},\n",
    "$$\n",
    "\n",
    "$$\n",
    "x_{ij} \\in \\{0,1\\} \\quad \\forall i \\in \\{1, 2, \\ldots, 7\\} \\quad and \\quad \\forall j \\in \\{1, 2, \\ldots, 21\\}.\n",
    "$$"
   ]
  },
  {
   "cell_type": "code",
   "execution_count": 38,
   "id": "5581c9ba-a229-40d5-998a-354e4d91ac47",
   "metadata": {},
   "outputs": [
    {
     "name": "stdout",
     "output_type": "stream",
     "text": [
      "[[10  9  5  4  6  6 10  6  3  2  7  1  9  9  6 10  8  2  2  2 10]\n",
      " [ 4 10  9  9 10  6 10  6 10 10  4  3  8  1  4  9  4 10  4  7  6]\n",
      " [ 0  5  0  3  8 10  6  8  8  8  7 10  1  4  1  7  2  4  8  5  9]\n",
      " [ 5  8  1  8  1  6  1  2  3  3  1 10  9  5 10  0  6  6  6  4  8]\n",
      " [ 6  9  8  9  0  5  8  3  3  7  8  5  4  1  8  8  2  3  3  8  0]\n",
      " [ 3 10  9  1  1  4  0  3  1  9  9  8 10  8  2  2  9  2  9 10  4]\n",
      " [ 4  9  4 10  4  5  8  1  9  7  2  2  0  1  1  7 10 10  6  9  7]]\n"
     ]
    }
   ],
   "source": [
    "import numpy as np\n",
    "c = np.random.randint(0, 11, size=(7, 21))\n",
    "print(c)"
   ]
  },
  {
   "cell_type": "code",
   "execution_count": 26,
   "id": "acd183aa-a2a3-4636-975c-85e664d49aaf",
   "metadata": {},
   "outputs": [],
   "source": [
    "from gurobipy import Model, GRB"
   ]
  },
  {
   "cell_type": "code",
   "execution_count": 27,
   "id": "2365c12b-9c8b-40b3-b32a-5a74ddf12288",
   "metadata": {},
   "outputs": [],
   "source": [
    "prob_1 = Model(\"Problem 1\")"
   ]
  },
  {
   "cell_type": "code",
   "execution_count": 28,
   "id": "4b88877d-411a-4052-a293-940e6783599d",
   "metadata": {},
   "outputs": [],
   "source": [
    "x = prob_1.addVars(c.shape[0], c.shape[1], vtype = GRB.BINARY, name = \"x\")"
   ]
  },
  {
   "cell_type": "code",
   "execution_count": 29,
   "id": "210a69bc-4ec0-4f9e-ba16-461a7edef467",
   "metadata": {},
   "outputs": [
    {
     "data": {
      "text/plain": [
       "{0: <gurobi.Constr *Awaiting Model Update*>,\n",
       " 1: <gurobi.Constr *Awaiting Model Update*>,\n",
       " 2: <gurobi.Constr *Awaiting Model Update*>,\n",
       " 3: <gurobi.Constr *Awaiting Model Update*>,\n",
       " 4: <gurobi.Constr *Awaiting Model Update*>,\n",
       " 5: <gurobi.Constr *Awaiting Model Update*>,\n",
       " 6: <gurobi.Constr *Awaiting Model Update*>,\n",
       " 7: <gurobi.Constr *Awaiting Model Update*>,\n",
       " 8: <gurobi.Constr *Awaiting Model Update*>,\n",
       " 9: <gurobi.Constr *Awaiting Model Update*>,\n",
       " 10: <gurobi.Constr *Awaiting Model Update*>,\n",
       " 11: <gurobi.Constr *Awaiting Model Update*>,\n",
       " 12: <gurobi.Constr *Awaiting Model Update*>,\n",
       " 13: <gurobi.Constr *Awaiting Model Update*>,\n",
       " 14: <gurobi.Constr *Awaiting Model Update*>,\n",
       " 15: <gurobi.Constr *Awaiting Model Update*>,\n",
       " 16: <gurobi.Constr *Awaiting Model Update*>,\n",
       " 17: <gurobi.Constr *Awaiting Model Update*>,\n",
       " 18: <gurobi.Constr *Awaiting Model Update*>,\n",
       " 19: <gurobi.Constr *Awaiting Model Update*>,\n",
       " 20: <gurobi.Constr *Awaiting Model Update*>}"
      ]
     },
     "execution_count": 29,
     "metadata": {},
     "output_type": "execute_result"
    }
   ],
   "source": [
    "prob_1.addConstrs((sum(x[i,j] for i in range(c.shape[0])) == 1\n",
    "                  for j in range(c.shape[1])))\n",
    "\n",
    "prob_1.addConstrs((sum(x[i,j] for j in range(c.shape[1])) <= 5\n",
    "                  for i in range(c.shape[0])))\n",
    "\n",
    "prob_1.addConstrs((sum(x[i,j] for i in range(c.shape[0])) == 1\n",
    "                  for j in range(c.shape[1])))\n"
   ]
  },
  {
   "cell_type": "code",
   "execution_count": 30,
   "id": "27be27a7-cc14-4dd3-a65e-39ffeba15745",
   "metadata": {},
   "outputs": [],
   "source": [
    "for i in range(c.shape[0]):\n",
    "    for k in range(c.shape[0]):\n",
    "        start_j = 3 * k   \n",
    "        end_j = 3 * k + 2  \n",
    "        if end_j < 21:\n",
    "            prob_1.addConstr(sum(x[i, j] for j in range(start_j, end_j + 1)) <= 1)"
   ]
  },
  {
   "cell_type": "code",
   "execution_count": 31,
   "id": "165bf6f0-d161-404a-8ba1-a5276491eda8",
   "metadata": {},
   "outputs": [],
   "source": [
    "for i in range(c.shape[0]):\n",
    "    for j in range(20):  \n",
    "        prob_1.addConstr(x[i, j] + x[i, j + 1] <= 1)"
   ]
  },
  {
   "cell_type": "code",
   "execution_count": 32,
   "id": "079192d2-284c-4038-8ae7-629514cb968b",
   "metadata": {},
   "outputs": [],
   "source": [
    "obj_fn = sum(c[i,j]*x[i,j] for i in range(c.shape[0]) for j in range(c.shape[1]))\n",
    "\n",
    "prob_1.setObjective(obj_fn, GRB.MAXIMIZE)"
   ]
  },
  {
   "cell_type": "code",
   "execution_count": 36,
   "id": "60818156-33a6-4209-adc9-6161195a2962",
   "metadata": {},
   "outputs": [],
   "source": [
    "prob_1.setParam(\"OutputFlag\", False)\n",
    "prob_1.optimize()"
   ]
  },
  {
   "cell_type": "code",
   "execution_count": 39,
   "id": "ecf94d8b-6b24-42e0-9d11-5ccc9124ccd2",
   "metadata": {},
   "outputs": [
    {
     "name": "stdout",
     "output_type": "stream",
     "text": [
      "Objective Function Value: 183.000000\n",
      "x[0,15] : 1\n",
      "x[1,6] : 1\n",
      "x[1,9] : 1\n",
      "x[1,14] : 1\n",
      "x[1,17] : 1\n",
      "x[2,5] : 1\n",
      "x[2,7] : 1\n",
      "x[2,11] : 1\n",
      "x[2,18] : 1\n",
      "x[3,0] : 1\n",
      "x[3,20] : 1\n",
      "x[4,4] : 1\n",
      "x[4,12] : 1\n",
      "x[4,19] : 1\n",
      "x[5,2] : 1\n",
      "x[5,10] : 1\n",
      "x[5,13] : 1\n",
      "x[6,1] : 1\n",
      "x[6,3] : 1\n",
      "x[6,8] : 1\n",
      "x[6,16] : 1\n"
     ]
    }
   ],
   "source": [
    "\n",
    "print(\"Objective Function Value: %f\" % prob_1.objVal)\n",
    "\n",
    "for v in prob_1.getVars():\n",
    "    if v.x > 0:\n",
    "       print(\"%s : %g\" % (v.varName, v.x))"
   ]
  },
  {
   "cell_type": "code",
   "execution_count": null,
   "id": "f762cf6c-ce99-4553-ab5f-6d293a7c8003",
   "metadata": {},
   "outputs": [],
   "source": []
  }
 ],
 "metadata": {
  "kernelspec": {
   "display_name": "Python 3 (ipykernel)",
   "language": "python",
   "name": "python3"
  },
  "language_info": {
   "codemirror_mode": {
    "name": "ipython",
    "version": 3
   },
   "file_extension": ".py",
   "mimetype": "text/x-python",
   "name": "python",
   "nbconvert_exporter": "python",
   "pygments_lexer": "ipython3",
   "version": "3.12.7"
  }
 },
 "nbformat": 4,
 "nbformat_minor": 5
}
